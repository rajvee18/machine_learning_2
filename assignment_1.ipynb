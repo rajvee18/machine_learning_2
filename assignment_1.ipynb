{
 "cells": [
  {
   "cell_type": "code",
   "execution_count": 11,
   "id": "747d953a",
   "metadata": {},
   "outputs": [],
   "source": [
    "import numpy as np\n",
    "import matplotlib.pyplot as plt\n",
    "import pandas as pd"
   ]
  },
  {
   "cell_type": "code",
   "execution_count": 2,
   "id": "fd311d87",
   "metadata": {},
   "outputs": [],
   "source": [
    "np.random.seed(0)\n",
    "x1 = np.random.randn(50,2) + [-2,-2]\n",
    "x2 = np.random.randn(50,2) + [2,2]\n",
    "data = np.concatenate((x1,x2),axis=0)\n",
    "labels=np.array([0]*50+[1]*50)\n",
    "indices=np.random.permutation(len(data))\n",
    "data=data[indices]\n",
    "labels=labels[indices]"
   ]
  },
  {
   "cell_type": "code",
   "execution_count": 3,
   "id": "eae83781",
   "metadata": {},
   "outputs": [
    {
     "data": {
      "image/png": "[encoded data removed]",
      "text/plain": [
       "<Figure size 640x480 with 1 Axes>"
      ]
     },
     "metadata": {},
     "output_type": "display_data"
    }
   ],
   "source": [
    "w1, w2, theta = 3, 1, 1\n",
    "params = [w1, w2, theta]\n",
    "x1_min,x1_max = -6,6\n",
    "x2_min,x2_max=-6,6\n",
    "\n",
    "def predict(x,params):\n",
    "    w1,w2,theta=params\n",
    "    return int(w1*x[0]+w2*x[1] >= theta)\n",
    "\n",
    "x1_grid, x2_grid = np.meshgrid(np.linspace(x1_min, x1_max, 300), np.linspace(x2_min, x2_max, 300))\n",
    "grid_points = np.c_[x1_grid.ravel(), x2_grid.ravel()]\n",
    "classification_region = np.array([predict(p, params) for p in grid_points]).reshape(x1_grid.shape)\n",
    "\n",
    "# Plot classification regions\n",
    "plt.contourf(x1_grid, x2_grid, classification_region, levels=[-0.1, 0.5, 1.1], colors=['lightgray', 'lightgreen'], alpha=0.4)\n",
    "\n",
    "\n",
    "plt.scatter(x1[:,0],x1[:,1],color='blue')\n",
    "plt.scatter(x2[:,0],x2[:,1],color='red')\n",
    "x1=np.linspace(x1_min,x2_max,100)\n",
    "x2=(theta-w1*x1)/w2\n",
    "plt.plot(x1,x2,color='green')\n",
    "\n",
    "plt.xlim(x1_min,x1_max)\n",
    "plt.ylim(x2_min,x2_max)\n",
    "plt.grid(True)\n",
    "plt.show()\n"
   ]
  },
  {
   "cell_type": "code",
   "execution_count": 4,
   "id": "664cc569",
   "metadata": {},
   "outputs": [
    {
     "data": {
      "text/plain": [
       "array([[-6.        , -5.95986622, -5.91973244, ...,  5.91973244,\n",
       "         5.95986622,  6.        ],\n",
       "       [-6.        , -5.95986622, -5.91973244, ...,  5.91973244,\n",
       "         5.95986622,  6.        ],\n",
       "       [-6.        , -5.95986622, -5.91973244, ...,  5.91973244,\n",
       "         5.95986622,  6.        ],\n",
       "       ...,\n",
       "       [-6.        , -5.95986622, -5.91973244, ...,  5.91973244,\n",
       "         5.95986622,  6.        ],\n",
       "       [-6.        , -5.95986622, -5.91973244, ...,  5.91973244,\n",
       "         5.95986622,  6.        ],\n",
       "       [-6.        , -5.95986622, -5.91973244, ...,  5.91973244,\n",
       "         5.95986622,  6.        ]])"
      ]
     },
     "execution_count": 4,
     "metadata": {},
     "output_type": "execute_result"
    }
   ],
   "source": [
    "x1_grid, x2_grid = np.meshgrid(np.linspace(x1_min, x1_max, 300), np.linspace(x2_min, x2_max, 300))\n",
    "x1_grid"
   ]
  },
  {
   "cell_type": "code",
   "execution_count": 5,
   "id": "3b06a767",
   "metadata": {},
   "outputs": [
    {
     "data": {
      "text/plain": [
       "array([[-6.        , -6.        ],\n",
       "       [-5.95986622, -6.        ],\n",
       "       [-5.91973244, -6.        ],\n",
       "       ...,\n",
       "       [ 5.91973244,  6.        ],\n",
       "       [ 5.95986622,  6.        ],\n",
       "       [ 6.        ,  6.        ]])"
      ]
     },
     "execution_count": 5,
     "metadata": {},
     "output_type": "execute_result"
    }
   ],
   "source": [
    "grid_points = np.c_[x1_grid.ravel(), x2_grid.ravel()]\n",
    "grid_points"
   ]
  },
  {
   "cell_type": "code",
   "execution_count": 6,
   "id": "dcf9dab1",
   "metadata": {},
   "outputs": [
    {
     "data": {
      "text/plain": [
       "(array([[0, 0, 0, ..., 1, 1, 1],\n",
       "        [0, 0, 0, ..., 1, 1, 1],\n",
       "        [0, 0, 0, ..., 1, 1, 1],\n",
       "        ...,\n",
       "        [0, 0, 0, ..., 1, 1, 1],\n",
       "        [0, 0, 0, ..., 1, 1, 1],\n",
       "        [0, 0, 0, ..., 1, 1, 1]]),\n",
       " array([[-6.        , -5.95986622, -5.91973244, ...,  5.91973244,\n",
       "          5.95986622,  6.        ],\n",
       "        [-6.        , -5.95986622, -5.91973244, ...,  5.91973244,\n",
       "          5.95986622,  6.        ],\n",
       "        [-6.        , -5.95986622, -5.91973244, ...,  5.91973244,\n",
       "          5.95986622,  6.        ],\n",
       "        ...,\n",
       "        [-6.        , -5.95986622, -5.91973244, ...,  5.91973244,\n",
       "          5.95986622,  6.        ],\n",
       "        [-6.        , -5.95986622, -5.91973244, ...,  5.91973244,\n",
       "          5.95986622,  6.        ],\n",
       "        [-6.        , -5.95986622, -5.91973244, ...,  5.91973244,\n",
       "          5.95986622,  6.        ]]),\n",
       " array([[-6.        , -6.        ],\n",
       "        [-5.95986622, -6.        ],\n",
       "        [-5.91973244, -6.        ],\n",
       "        ...,\n",
       "        [ 5.91973244,  6.        ],\n",
       "        [ 5.95986622,  6.        ],\n",
       "        [ 6.        ,  6.        ]]))"
      ]
     },
     "execution_count": 6,
     "metadata": {},
     "output_type": "execute_result"
    }
   ],
   "source": [
    "classification_region = np.array([predict(p, params) for p in grid_points]).reshape(x1_grid.shape)\n",
    "classification_region, x1_grid, grid_points"
   ]
  },
  {
   "cell_type": "markdown",
   "id": "1777f4f5",
   "metadata": {},
   "source": [
    "## Complex decision boundaries with XOR"
   ]
  },
  {
   "cell_type": "code",
   "execution_count": 7,
   "id": "1b6f15f3",
   "metadata": {},
   "outputs": [],
   "source": [
    "np.random.seed(0)\n",
    "x1 = np.random.randn(50,2) + [-2,-2]\n",
    "x2 = np.random.randn(50,2) + [2,2]"
   ]
  },
  {
   "cell_type": "code",
   "execution_count": null,
   "id": "4c668737",
   "metadata": {},
   "outputs": [
    {
     "data": {
      "text/plain": [
       "<zip at 0x7060b381aec0>"
      ]
     },
     "execution_count": 32,
     "metadata": {},
     "output_type": "execute_result"
    }
   ],
   "source": [
    "x=[0,1,2,3,4,5,6]\n",
    "y=[0,0,1,1,1,0,0]\n"
   ]
  },
  {
   "cell_type": "code",
   "execution_count": null,
   "id": "b4d42b68",
   "metadata": {},
   "outputs": [
    {
     "data": {
      "image/png": "[encoded data removed]",
      "text/plain": [
       "<Figure size 640x480 with 1 Axes>"
      ]
     },
     "metadata": {},
     "output_type": "display_data"
    }
   ],
   "source": [
    "\n",
    "    \n",
    "plt.grid()"
   ]
  },
  {
   "cell_type": "markdown",
   "id": "10d6ab88",
   "metadata": {},
   "source": [
    "### MLP coding"
   ]
  },
  {
   "cell_type": "code",
   "execution_count": 55,
   "id": "69d51212",
   "metadata": {},
   "outputs": [
    {
     "data": {
      "image/png": "[encoded data removed]",
      "text/plain": [
       "<Figure size 640x480 with 1 Axes>"
      ]
     },
     "metadata": {},
     "output_type": "display_data"
    }
   ],
   "source": [
    "\n",
    "\n",
    "# Perceptron 1\n",
    "w1, w2, theta = 0,3, 1\n",
    "params = [w1, w2, theta]\n",
    "x1_min,x1_max = 0,7\n",
    "x2_min,x2_max=0,7\n",
    "\n",
    "def predict(x,params):\n",
    "    w1,w2,theta=params\n",
    "    return int(w1*x[0]+w2*x[1] <= theta)\n",
    "\n",
    "x1_grid, x2_grid = np.meshgrid(np.linspace(x1_min, x1_max, 300), np.linspace(x2_min, x2_max, 300))\n",
    "grid_points = np.c_[x1_grid.ravel(), x2_grid.ravel()]\n",
    "classification_region = np.array([predict(p, params) for p in grid_points]).reshape(x1_grid.shape)\n",
    "\n",
    "# Plot classification regions\n",
    "plt.contourf(x1_grid, x2_grid, classification_region, levels=[-0.1, 0.5, 1.1], colors=['lightgray', 'lightgreen'], alpha=0.4)\n",
    "\n",
    "for i in zip(x,y):\n",
    "    if i[1]==0:\n",
    "        plt.plot(i[0],0,'.',color='green')\n",
    "    else:\n",
    "        plt.plot(i[0],0,'.',color='red')\n",
    "\n",
    "x1=np.linspace(x1_min,x2_max,100)\n",
    "x2=(theta-w1*x1)/w2\n",
    "plt.plot(x1,x2,color='green')\n",
    "\n",
    "\n",
    "\n",
    "#Perceptron 2\n",
    "w1, w2, theta = 0,3, -1\n",
    "params = [w1, w2, theta]\n",
    "x1_grid_2, x2_grid_2 = np.meshgrid(np.linspace(x1_min, x1_max, 300), np.linspace(x2_min, x2_max, 300))\n",
    "grid_points = np.c_[x1_grid_2.ravel(), x2_grid_2.ravel()]\n",
    "classification_region = np.array([predict(p, params) for p in grid_points]).reshape(x1_grid_2.shape)\n",
    "\n",
    "# Plot classification regions\n",
    "plt.contourf(x1_grid_2, x2_grid_2, classification_region, levels=[-0.1, 0.5, 1.1], colors=['lightgray', 'lightgreen'], alpha=0.4)\n",
    "x1=np.linspace(x1_min,x2_max,100)\n",
    "x2=(theta-w1*x1)/w2\n",
    "plt.plot(x1,x2,color='green')\n",
    "plt.xlim(x1_min,x1_max)\n",
    "plt.ylim(-7,x2_max)\n",
    "plt.grid(True)\n",
    "plt.show()\n"
   ]
  },
  {
   "cell_type": "code",
   "execution_count": 68,
   "id": "df2c70e8",
   "metadata": {},
   "outputs": [
    {
     "data": {
      "image/png": "[encoded data removed]",
      "text/plain": [
       "<Figure size 640x480 with 1 Axes>"
      ]
     },
     "metadata": {},
     "output_type": "display_data"
    }
   ],
   "source": [
    "def predict(x,params):\n",
    "    w1,theta=params\n",
    "    return int(w1*x >= theta)\n",
    "\n",
    "def perceptron1(x):\n",
    "    \n",
    "    params=[1,1.5]\n",
    "    return predict(x,params)\n",
    "\n",
    "def perceptron2(x):\n",
    "    \n",
    "    params=[-1,-4.5]\n",
    "    return predict(x,params)\n",
    "\n",
    "def xor_like(x):\n",
    "    return perceptron1(x) * perceptron2(x)\n",
    "\n",
    "\n",
    "\n",
    "x = np.array([0, 1, 2, 3, 4, 5, 6])\n",
    "y = np.array([0, 0, 1, 1, 1, 0, 0])\n",
    "\n",
    "# Plot points\n",
    "for xi, yi in zip(x, y):\n",
    "    color = 'green' if yi == 0 else 'red'\n",
    "    plt.plot(xi, 0, '.', color=color, markersize=15)\n",
    "\n",
    "# Plot the \"decision region\"\n",
    "xx = np.linspace(-10, 20, 300)\n",
    "yy = [xor_like(val) for val in xx]\n",
    "plt.plot(xx, np.array(yy)-0.2, color='blue', linewidth=2, label='decision boundary')\n",
    "\n",
    "\n",
    "plt.xlabel('x')\n",
    "\n",
    "plt.legend()\n",
    "plt.show()"
   ]
  }
 ],
 "metadata": {
  "kernelspec": {
   "display_name": "Python 3",
   "language": "python",
   "name": "python3"
  },
  "language_info": {
   "codemirror_mode": {
    "name": "ipython",
    "version": 3
   },
   "file_extension": ".py",
   "mimetype": "text/x-python",
   "name": "python",
   "nbconvert_exporter": "python",
   "pygments_lexer": "ipython3",
   "version": "3.10.12"
  }
 },
 "nbformat": 4,
 "nbformat_minor": 5
}
