{
 "cells": [
  {
   "cell_type": "code",
   "execution_count": 79,
   "id": "747d953a",
   "metadata": {},
   "outputs": [],
   "source": [
    "import numpy as np\n",
    "import matplotlib.pyplot as plt"
   ]
  },
  {
   "cell_type": "code",
   "execution_count": 80,
   "id": "fd311d87",
   "metadata": {},
   "outputs": [],
   "source": [
    "np.random.seed(0)\n",
    "x1 = np.random.randn(50,2) + [-2,-2]\n",
    "x2 = np.random.randn(50,2) + [2,2]\n",
    "data = np.concatenate((x1,x2),axis=0)\n",
    "labels=np.array([0]*50+[1]*50)\n",
    "indices=np.random.permutation(len(data))\n",
    "data=data[indices]\n",
    "labels=labels[indices]"
   ]
  },
  {
   "cell_type": "code",
   "execution_count": 81,
   "id": "eae83781",
   "metadata": {},
   "outputs": [
    {
     "data": {
      "image/png": "[encoded data removed]",
      "text/plain": [
       "<Figure size 640x480 with 1 Axes>"
      ]
     },
     "metadata": {},
     "output_type": "display_data"
    }
   ],
   "source": [
    "w1, w2, theta = 3, 1, 1\n",
    "params = [w1, w2, theta]\n",
    "x1_min,x1_max = -6,6\n",
    "x2_min,x2_max=-6,6\n",
    "\n",
    "def predict(x,params):\n",
    "    w1,w2,theta=params\n",
    "    return int(w1*x[0]+w2*x[1] >= theta)\n",
    "\n",
    "x1_grid, x2_grid = np.meshgrid(np.linspace(x1_min, x1_max, 300), np.linspace(x2_min, x2_max, 300))\n",
    "grid_points = np.c_[x1_grid.ravel(), x2_grid.ravel()]\n",
    "classification_region = np.array([predict(p, params) for p in grid_points]).reshape(x1_grid.shape)\n",
    "\n",
    "# Plot classification regions\n",
    "plt.contourf(x1_grid, x2_grid, classification_region, levels=[-0.1, 0.5, 1.1], colors=['lightgray', 'lightgreen'], alpha=0.4)\n",
    "\n",
    "\n",
    "plt.scatter(x1[:,0],x1[:,1],color='blue')\n",
    "plt.scatter(x2[:,0],x2[:,1],color='red')\n",
    "x1=np.linspace(x1_min,x2_max,100)\n",
    "x2=(theta-w1*x1)/w2\n",
    "plt.plot(x1,x2,color='green')\n",
    "\n",
    "plt.xlim(x1_min,x1_max)\n",
    "plt.ylim(x2_min,x2_max)\n",
    "plt.grid(True)\n",
    "plt.show()\n"
   ]
  },
  {
   "cell_type": "code",
   "execution_count": 82,
   "id": "664cc569",
   "metadata": {},
   "outputs": [
    {
     "data": {
      "text/plain": [
       "array([[-6.        , -5.95986622, -5.91973244, ...,  5.91973244,\n",
       "         5.95986622,  6.        ],\n",
       "       [-6.        , -5.95986622, -5.91973244, ...,  5.91973244,\n",
       "         5.95986622,  6.        ],\n",
       "       [-6.        , -5.95986622, -5.91973244, ...,  5.91973244,\n",
       "         5.95986622,  6.        ],\n",
       "       ...,\n",
       "       [-6.        , -5.95986622, -5.91973244, ...,  5.91973244,\n",
       "         5.95986622,  6.        ],\n",
       "       [-6.        , -5.95986622, -5.91973244, ...,  5.91973244,\n",
       "         5.95986622,  6.        ],\n",
       "       [-6.        , -5.95986622, -5.91973244, ...,  5.91973244,\n",
       "         5.95986622,  6.        ]])"
      ]
     },
     "execution_count": 82,
     "metadata": {},
     "output_type": "execute_result"
    }
   ],
   "source": [
    "x1_grid, x2_grid = np.meshgrid(np.linspace(x1_min, x1_max, 300), np.linspace(x2_min, x2_max, 300))\n",
    "x1_grid"
   ]
  },
  {
   "cell_type": "code",
   "execution_count": 83,
   "id": "3b06a767",
   "metadata": {},
   "outputs": [],
   "source": [
    "grid_points = np.c_[x1_grid.ravel(), x2_grid.ravel()]\n"
   ]
  },
  {
   "cell_type": "code",
   "execution_count": 84,
   "id": "dcf9dab1",
   "metadata": {},
   "outputs": [
    {
     "data": {
      "text/plain": [
       "(array([[0, 0, 0, ..., 1, 1, 1],\n",
       "        [0, 0, 0, ..., 1, 1, 1],\n",
       "        [0, 0, 0, ..., 1, 1, 1],\n",
       "        ...,\n",
       "        [0, 0, 0, ..., 1, 1, 1],\n",
       "        [0, 0, 0, ..., 1, 1, 1],\n",
       "        [0, 0, 0, ..., 1, 1, 1]]),\n",
       " array([[-6.        , -5.95986622, -5.91973244, ...,  5.91973244,\n",
       "          5.95986622,  6.        ],\n",
       "        [-6.        , -5.95986622, -5.91973244, ...,  5.91973244,\n",
       "          5.95986622,  6.        ],\n",
       "        [-6.        , -5.95986622, -5.91973244, ...,  5.91973244,\n",
       "          5.95986622,  6.        ],\n",
       "        ...,\n",
       "        [-6.        , -5.95986622, -5.91973244, ...,  5.91973244,\n",
       "          5.95986622,  6.        ],\n",
       "        [-6.        , -5.95986622, -5.91973244, ...,  5.91973244,\n",
       "          5.95986622,  6.        ],\n",
       "        [-6.        , -5.95986622, -5.91973244, ...,  5.91973244,\n",
       "          5.95986622,  6.        ]]),\n",
       " array([[-6.        , -6.        ],\n",
       "        [-5.95986622, -6.        ],\n",
       "        [-5.91973244, -6.        ],\n",
       "        ...,\n",
       "        [ 5.91973244,  6.        ],\n",
       "        [ 5.95986622,  6.        ],\n",
       "        [ 6.        ,  6.        ]]))"
      ]
     },
     "execution_count": 84,
     "metadata": {},
     "output_type": "execute_result"
    }
   ],
   "source": [
    "classification_region = np.array([predict(p, params) for p in grid_points]).reshape(x1_grid.shape)\n",
    "classification_region, x1_grid, grid_points"
   ]
  }
 ],
 "metadata": {
  "kernelspec": {
   "display_name": "Python 3",
   "language": "python",
   "name": "python3"
  },
  "language_info": {
   "codemirror_mode": {
    "name": "ipython",
    "version": 3
   },
   "file_extension": ".py",
   "mimetype": "text/x-python",
   "name": "python",
   "nbconvert_exporter": "python",
   "pygments_lexer": "ipython3",
   "version": "3.10.12"
  }
 },
 "nbformat": 4,
 "nbformat_minor": 5
}
