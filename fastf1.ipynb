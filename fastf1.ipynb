{
 "cells": [
  {
   "cell_type": "code",
   "execution_count": 12,
   "id": "75fd9e3d",
   "metadata": {},
   "outputs": [
    {
     "name": "stderr",
     "output_type": "stream",
     "text": [
      "core           INFO \tLoading data for Italian Grand Prix - Qualifying [v3.6.0]\n",
      "req            INFO \tUsing cached data for session_info\n",
      "req            INFO \tUsing cached data for driver_info\n",
      "req            INFO \tUsing cached data for session_status_data\n",
      "req            INFO \tUsing cached data for track_status_data\n",
      "req            INFO \tUsing cached data for _extended_timing_data\n",
      "req            INFO \tUsing cached data for timing_app_data\n",
      "core           INFO \tProcessing timing data...\n",
      "req            INFO \tUsing cached data for car_data\n",
      "req            INFO \tUsing cached data for position_data\n",
      "req            INFO \tUsing cached data for weather_data\n",
      "req            INFO \tUsing cached data for race_control_messages\n",
      "core           INFO \tFinished loading data for 20 drivers: ['1', '4', '81', '16', '44', '63', '12', '5', '14', '22', '87', '27', '55', '23', '31', '6', '18', '43', '10', '30']\n",
      "/home/code_wizard/coding_files/.venv/lib64/python3.13/site-packages/fastf1/core.py:3183: FutureWarning: pick_driver is deprecated and will be removed in a future release. Use pick_drivers instead.\n",
      "  warnings.warn((\"pick_driver is deprecated and will be removed\"\n"
     ]
    }
   ],
   "source": [
    "import fastf1\n",
    "\n",
    "\n",
    "\n",
    "session = fastf1.get_session(2025,'Monza','Q')\n",
    "session.load()\n",
    "max = session.laps.pick_driver('MAX')"
   ]
  },
  {
   "cell_type": "code",
   "execution_count": 14,
   "id": "d236a9f4",
   "metadata": {},
   "outputs": [
    {
     "data": {
      "text/plain": [
       "Time                      0 days 01:14:52.170000\n",
       "Driver                                       VER\n",
       "DriverNumber                                   1\n",
       "LapTime                   0 days 00:01:18.792000\n",
       "LapNumber                                   17.0\n",
       "Stint                                        6.0\n",
       "PitOutTime                                   NaT\n",
       "PitInTime                                    NaT\n",
       "Sector1Time               0 days 00:00:26.262000\n",
       "Sector2Time               0 days 00:00:26.483000\n",
       "Sector3Time               0 days 00:00:26.047000\n",
       "Sector1SessionTime        0 days 01:13:59.640000\n",
       "Sector2SessionTime        0 days 01:14:26.123000\n",
       "Sector3SessionTime        0 days 01:14:52.170000\n",
       "SpeedI1                                    327.0\n",
       "SpeedI2                                    340.0\n",
       "SpeedFL                                    315.0\n",
       "SpeedST                                    348.0\n",
       "IsPersonalBest                              True\n",
       "Compound                                    SOFT\n",
       "TyreLife                                     2.0\n",
       "FreshTyre                                   True\n",
       "Team                             Red Bull Racing\n",
       "LapStartTime              0 days 01:13:33.378000\n",
       "LapStartDate          2025-09-06 15:00:53.955000\n",
       "TrackStatus                                    1\n",
       "Position                                     NaN\n",
       "Deleted                                    False\n",
       "DeletedReason                                   \n",
       "FastF1Generated                            False\n",
       "IsAccurate                                  True\n",
       "Name: 16, dtype: object"
      ]
     },
     "execution_count": 14,
     "metadata": {},
     "output_type": "execute_result"
    }
   ],
   "source": [
    "fast_leclerc = session.laps.pick_drivers('VER').pick_fastest()\n",
    "fast_leclerc"
   ]
  }
 ],
 "metadata": {
  "kernelspec": {
   "display_name": ".venv",
   "language": "python",
   "name": "python3"
  },
  "language_info": {
   "codemirror_mode": {
    "name": "ipython",
    "version": 3
   },
   "file_extension": ".py",
   "mimetype": "text/x-python",
   "name": "python",
   "nbconvert_exporter": "python",
   "pygments_lexer": "ipython3",
   "version": "3.13.7"
  }
 },
 "nbformat": 4,
 "nbformat_minor": 5
}
