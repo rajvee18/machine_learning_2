{
 "cells": [
  {
   "cell_type": "code",
   "execution_count": 13,
   "id": "75fd9e3d",
   "metadata": {},
   "outputs": [
    {
     "data": {
      "text/plain": [
       "RoundNumber                                                 0\n",
       "Country                                               Bahrain\n",
       "Location                                               Sakhir\n",
       "OfficialEventName    FORMULA 1 ARAMCO PRE-SEASON TESTING 2025\n",
       "EventDate                                 2025-02-28 00:00:00\n",
       "EventName                                  Pre-Season Testing\n",
       "EventFormat                                           testing\n",
       "Session1                                           Practice 1\n",
       "Session1Date                        2025-02-26 10:00:00+03:00\n",
       "Session1DateUtc                           2025-02-26 07:00:00\n",
       "Session2                                           Practice 2\n",
       "Session2Date                        2025-02-27 10:00:00+03:00\n",
       "Session2DateUtc                           2025-02-27 07:00:00\n",
       "Session3                                           Practice 3\n",
       "Session3Date                        2025-02-28 10:00:00+03:00\n",
       "Session3DateUtc                           2025-02-28 07:00:00\n",
       "Session4                                                 None\n",
       "Session4Date                                              NaT\n",
       "Session4DateUtc                                           NaT\n",
       "Session5                                                 None\n",
       "Session5Date                                              NaT\n",
       "Session5DateUtc                                           NaT\n",
       "F1ApiSupport                                             True\n",
       "Name: 0, dtype: object"
      ]
     },
     "execution_count": 13,
     "metadata": {},
     "output_type": "execute_result"
    }
   ],
   "source": [
    "import fastf1\n",
    "\n",
    "\n",
    "\n",
    "fastf1.get_event(2025,'Silverstone')\n",
    "fastf1.get_testing_event(2025,1)\n"
   ]
  }
 ],
 "metadata": {
  "kernelspec": {
   "display_name": "Python 3",
   "language": "python",
   "name": "python3"
  },
  "language_info": {
   "codemirror_mode": {
    "name": "ipython",
    "version": 3
   },
   "file_extension": ".py",
   "mimetype": "text/x-python",
   "name": "python",
   "nbconvert_exporter": "python",
   "pygments_lexer": "ipython3",
   "version": "3.10.12"
  }
 },
 "nbformat": 4,
 "nbformat_minor": 5
}
